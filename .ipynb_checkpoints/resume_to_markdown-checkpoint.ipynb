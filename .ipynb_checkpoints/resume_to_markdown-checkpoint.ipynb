{
 "cells": [
  {
   "cell_type": "markdown",
   "id": "7df3c11e-b140-4090-a655-4edf7759b037",
   "metadata": {},
   "source": [
    "# this notebook will read your current resume and try to make a markdown variant of it, so that you could use the resume_maker.ipynb"
   ]
  },
  {
   "cell_type": "markdown",
   "id": "728fb522-6b51-4bb8-94a6-61c263debb4c",
   "metadata": {},
   "source": [
    "## the notebook accepts pdf and word(docx) files"
   ]
  },
  {
   "cell_type": "markdown",
   "id": "5e6972fd-1bfa-412e-98ce-d3f2f856ad5c",
   "metadata": {},
   "source": [
    "## please put your current resume in the same folder as this notebook\n",
    "## and write the name and file extention in the quotation marks"
   ]
  },
  {
   "cell_type": "code",
   "execution_count": 4,
   "id": "46f935c0-9e09-42b5-8823-eed22ec13342",
   "metadata": {},
   "outputs": [],
   "source": [
    "\n",
    "current_resume_file_name = \"My_CV en.docx\""
   ]
  },
  {
   "cell_type": "code",
   "execution_count": 5,
   "id": "a03c4ae7-36d5-40a8-97d2-f8e801288497",
   "metadata": {},
   "outputs": [],
   "source": [
    "output_file_name = \"resume.md\""
   ]
  },
  {
   "cell_type": "code",
   "execution_count": 6,
   "id": "c9bdb627-0b64-4253-8b2d-30c538ba44bd",
   "metadata": {},
   "outputs": [
    {
     "name": "stdout",
     "output_type": "stream",
     "text": [
      "Requirement already satisfied: python-docx in c:\\users\\stili\\anaconda3\\envs\\resumetest\\lib\\site-packages (1.1.2)\n",
      "Requirement already satisfied: pymupdf in c:\\users\\stili\\anaconda3\\envs\\resumetest\\lib\\site-packages (1.25.4)\n",
      "Requirement already satisfied: markdownify in c:\\users\\stili\\anaconda3\\envs\\resumetest\\lib\\site-packages (1.1.0)\n",
      "Requirement already satisfied: lxml>=3.1.0 in c:\\users\\stili\\anaconda3\\envs\\resumetest\\lib\\site-packages (from python-docx) (5.3.1)\n",
      "Requirement already satisfied: typing-extensions>=4.9.0 in c:\\users\\stili\\anaconda3\\envs\\resumetest\\lib\\site-packages (from python-docx) (4.12.2)\n",
      "Requirement already satisfied: beautifulsoup4<5,>=4.9 in c:\\users\\stili\\anaconda3\\envs\\resumetest\\lib\\site-packages (from markdownify) (4.13.3)\n",
      "Requirement already satisfied: six<2,>=1.15 in c:\\users\\stili\\anaconda3\\envs\\resumetest\\lib\\site-packages (from markdownify) (1.17.0)\n",
      "Requirement already satisfied: soupsieve>1.2 in c:\\users\\stili\\anaconda3\\envs\\resumetest\\lib\\site-packages (from beautifulsoup4<5,>=4.9->markdownify) (2.6)\n"
     ]
    }
   ],
   "source": [
    "!pip install python-docx pymupdf markdownify"
   ]
  },
  {
   "cell_type": "code",
   "execution_count": 7,
   "id": "566aabd5-9662-42c9-8a08-165bd153797f",
   "metadata": {},
   "outputs": [
    {
     "name": "stdout",
     "output_type": "stream",
     "text": [
      "Requirement already satisfied: PyMuPDF in c:\\users\\stili\\anaconda3\\lib\\site-packages (1.25.4)\n",
      "Note: you may need to restart the kernel to use updated packages.\n"
     ]
    }
   ],
   "source": [
    "pip install PyMuPDF\n"
   ]
  },
  {
   "cell_type": "code",
   "execution_count": 8,
   "id": "2df0caed-49ac-4e4f-918d-971dc166ac72",
   "metadata": {},
   "outputs": [
    {
     "name": "stdout",
     "output_type": "stream",
     "text": [
      "Requirement already satisfied: markdownify in c:\\users\\stili\\anaconda3\\lib\\site-packages (1.1.0)Note: you may need to restart the kernel to use updated packages.\n",
      "\n",
      "Requirement already satisfied: beautifulsoup4<5,>=4.9 in c:\\users\\stili\\anaconda3\\lib\\site-packages (from markdownify) (4.12.3)\n",
      "Requirement already satisfied: six<2,>=1.15 in c:\\users\\stili\\anaconda3\\lib\\site-packages (from markdownify) (1.16.0)\n",
      "Requirement already satisfied: soupsieve>1.2 in c:\\users\\stili\\anaconda3\\lib\\site-packages (from beautifulsoup4<5,>=4.9->markdownify) (2.5)\n"
     ]
    }
   ],
   "source": [
    "pip install markdownify\n"
   ]
  },
  {
   "cell_type": "code",
   "execution_count": 9,
   "id": "0ef683d3-ba90-4ee8-92f4-866a8779accb",
   "metadata": {},
   "outputs": [],
   "source": [
    "# Warning control\n",
    "import warnings\n",
    "warnings.filterwarnings('ignore')"
   ]
  },
  {
   "cell_type": "code",
   "execution_count": 10,
   "id": "3b681f97-56f3-4522-9b8a-b02eeb7d82cc",
   "metadata": {
    "scrolled": true
   },
   "outputs": [],
   "source": [
    "import os\n",
    "import fitz  # PyMuPDF (for PDF files)\n",
    "from docx import Document\n",
    "from markdownify import markdownify as md\n",
    "\n",
    "from docx import Document"
   ]
  },
  {
   "cell_type": "markdown",
   "id": "e695503c-7622-4a74-a8a0-0d06dd88940b",
   "metadata": {},
   "source": [
    "## this method transforms word documents to markdown"
   ]
  },
  {
   "cell_type": "code",
   "execution_count": 12,
   "id": "3e06a2c6-efa5-4941-9277-83cb67089f8b",
   "metadata": {},
   "outputs": [],
   "source": [
    "def docx_to_markdown(file_path):\n",
    "    try:\n",
    "        doc = Document(file_path)\n",
    "        full_text = []\n",
    "\n",
    "        for para in doc.paragraphs:\n",
    "            full_text.append(para.text.strip())\n",
    "\n",
    "        # Вземаме всички текстове от таблиците, ако има такива\n",
    "        for table in doc.tables:\n",
    "            for row in table.rows:\n",
    "                for cell in row.cells:\n",
    "                    full_text.append(cell.text.strip())\n",
    "\n",
    "        # Обединяваме всички събрани части в един текст и го връщаме\n",
    "        markdown_content = \"\\n\\n\".join(full_text)\n",
    "        return markdown_content\n",
    "\n",
    "    except Exception as e:\n",
    "        print(f\"Error extracting DOCX file: {file_path}. Error: {e}\")\n",
    "        return \"\"\n",
    "\n"
   ]
  },
  {
   "cell_type": "markdown",
   "id": "c7db3c56-3c50-4cca-a489-8ab77f635cbc",
   "metadata": {},
   "source": [
    "## this method transforms word documents to markdown"
   ]
  },
  {
   "cell_type": "code",
   "execution_count": 14,
   "id": "ecfa9c98-d0f1-49c4-b4bf-f6c41ec1b62f",
   "metadata": {},
   "outputs": [],
   "source": [
    "def pdf_to_markdown(file_path):\n",
    "    \"\"\"Converts a PDF file to Markdown format, ensuring UTF-8 encoding.\"\"\"\n",
    "    try:\n",
    "        doc = fitz.open(file_path)\n",
    "        text = \"\\n\\n\".join([page.get_text(\"text\", sort=True) for page in doc])\n",
    "        if not text.strip():\n",
    "            print(f\"No text extracted from PDF file: {file_path}\")\n",
    "        return md(text)\n",
    "    except Exception as e:\n",
    "        print(f\"Error extracting PDF file: {file_path}. Error: {e}\")\n",
    "        return \"\""
   ]
  },
  {
   "cell_type": "markdown",
   "id": "2406b6a2-16d2-44df-a0cf-2dbf0591a739",
   "metadata": {},
   "source": [
    "## this method calls the right method depending of you gave a word or pdf  file and saves the result "
   ]
  },
  {
   "cell_type": "code",
   "execution_count": 16,
   "id": "190298bf-a792-49e9-b66a-6294a57a695f",
   "metadata": {},
   "outputs": [],
   "source": [
    "def convert_resume_to_markdown(input_file):\n",
    "    \"\"\"Converts a DOCX or PDF resume to Markdown and saves it as in the variable output_file_name.\"\"\"\n",
    "    # Check file extension and call the appropriate conversion function\n",
    "    file_extension = os.path.splitext(input_file)[-1].lower()\n",
    "\n",
    "    if file_extension == \".docx\":\n",
    "        markdown_text = docx_to_markdown(input_file)\n",
    "    elif file_extension == \".pdf\":\n",
    "        markdown_text = pdf_to_markdown(input_file)\n",
    "    else:\n",
    "        raise ValueError(\"Unsupported file format. Only DOCX and PDF are supported.\")\n",
    "\n",
    "    if markdown_text.strip() == \"\":\n",
    "        print(\"Failed to extract any meaningful text from the file.\")\n",
    "        return None\n",
    "\n",
    "    # Save the output as \"resume.md\" in the same directory as the input file\n",
    "    output_md_file = os.path.join(os.path.dirname(input_file), output_file_name)\n",
    "\n",
    "    # Write the converted text into the file\n",
    "    try:\n",
    "        with open(output_md_file, \"w\", encoding=\"utf-8\", errors=\"replace\") as f:\n",
    "            f.write(markdown_text)\n",
    "        print(f\"Markdown file saved successfully: {output_md_file}\")\n",
    "    except Exception as e:\n",
    "        print(f\"Error saving markdown file: {e}\")\n",
    "        return None\n",
    "\n",
    "    return output_md_file  # Return the path for further use\n"
   ]
  },
  {
   "cell_type": "markdown",
   "id": "8727b40b-f408-4063-9f1e-0bce9e965778",
   "metadata": {},
   "source": [
    "## we call the function here"
   ]
  },
  {
   "cell_type": "code",
   "execution_count": 18,
   "id": "04d97b20-3fcc-4a13-b5af-cef2e2a6ede6",
   "metadata": {},
   "outputs": [
    {
     "name": "stdout",
     "output_type": "stream",
     "text": [
      "Markdown file saved successfully: resume.md\n"
     ]
    }
   ],
   "source": [
    "\n",
    "markdown_resume = convert_resume_to_markdown(current_resume_file_name)"
   ]
  },
  {
   "cell_type": "code",
   "execution_count": null,
   "id": "c86e25cd-b7d2-4848-8565-b261e00e6e10",
   "metadata": {},
   "outputs": [],
   "source": []
  }
 ],
 "metadata": {
  "kernelspec": {
   "display_name": "Python 3 (ipykernel)",
   "language": "python",
   "name": "python3"
  },
  "language_info": {
   "codemirror_mode": {
    "name": "ipython",
    "version": 3
   },
   "file_extension": ".py",
   "mimetype": "text/x-python",
   "name": "python",
   "nbconvert_exporter": "python",
   "pygments_lexer": "ipython3",
   "version": "3.12.7"
  }
 },
 "nbformat": 4,
 "nbformat_minor": 5
}
