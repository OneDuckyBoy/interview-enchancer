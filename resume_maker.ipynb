{
 "cells": [
  {
   "cell_type": "markdown",
   "id": "907ce338-f7ac-487f-8b24-e15f00bf386e",
   "metadata": {},
   "source": [
    "# Hi, in this notebook I will use crew AI and open ai to tailor Job Application resume by using multi agent system\n",
    "## The notebook will also create a file with interview questions in a different file, named \"interview_materials.md\""
   ]
  },
  {
   "cell_type": "markdown",
   "id": "c5cd68ce-d9c0-4378-9d5f-af4b744081b6",
   "metadata": {},
   "source": [
    "### you will need to put an SERPER_API_KEY and SERPER_API_KEY in the .env for this notebook\n",
    "https://platform.openai.com/\n",
    "\n",
    "https://serper.dev/"
   ]
  },
  {
   "cell_type": "markdown",
   "id": "5629faf2-e3bb-4a20-9ff4-38e8547cd888",
   "metadata": {},
   "source": [
    "# this is the information that we will give to the project"
   ]
  },
  {
   "cell_type": "code",
   "execution_count": 3,
   "id": "5abf6080-06a8-4bad-8400-eb02f70126e4",
   "metadata": {},
   "outputs": [],
   "source": [
    "# this is the information that we will give to the agents\n",
    "job_posting_url = \"  <type here>  \"\n",
    "github_url = \"  <type here>  \"\n",
    "personal_writeup =  \"\"\"  <type here> \"\"\""
   ]
  },
  {
   "cell_type": "code",
   "execution_count": 5,
   "id": "29916e76-a378-44d6-8a79-d7a09e2c90a6",
   "metadata": {},
   "outputs": [],
   "source": [
    "# Warning control\n",
    "import warnings\n",
    "warnings.filterwarnings('ignore')"
   ]
  },
  {
   "cell_type": "markdown",
   "id": "de0f6326-bd03-4e19-b6bf-3826c8519332",
   "metadata": {},
   "source": [
    "## if this is your first time using this, or other notebooks with Crew AI you would need to download the needed modules"
   ]
  },
  {
   "cell_type": "code",
   "execution_count": 13,
   "id": "32cbf062-81cd-4221-8830-4fa55a7c0e1d",
   "metadata": {
    "scrolled": true
   },
   "outputs": [
    {
     "ename": "SyntaxError",
     "evalue": "invalid syntax (3139094060.py, line 2)",
     "output_type": "error",
     "traceback": [
      "\u001b[1;36m  Cell \u001b[1;32mIn[13], line 2\u001b[1;36m\u001b[0m\n\u001b[1;33m    pip install crewai==0.28.8 crewai_tools==0.1.6 langchain_community==0.0.29\u001b[0m\n\u001b[1;37m        ^\u001b[0m\n\u001b[1;31mSyntaxError\u001b[0m\u001b[1;31m:\u001b[0m invalid syntax\n"
     ]
    }
   ],
   "source": [
    "# if this is your first time using this, or other notebooks with Crew AI you would need to download the needed modules\n",
    "!pip install crewai==0.28.8 crewai_tools==0.1.6 langchain_community==0.0.29\n"
   ]
  },
  {
   "cell_type": "code",
   "execution_count": 21,
   "id": "039fe10c-eb59-4aca-a5ab-44049164ccf9",
   "metadata": {},
   "outputs": [],
   "source": [
    "# import sys\n",
    "# print(sys.executable)\n",
    "# !conda install ipykernel -y\n",
    "# !python -m ipykernel install --user --name=resumeTest --display-name \"Python (resumeTest)\"\n"
   ]
  },
  {
   "cell_type": "code",
   "execution_count": 28,
   "id": "e9d38c2d-fab6-42c4-963a-51bf9764ccf9",
   "metadata": {},
   "outputs": [],
   "source": [
    "# !pip show crewai crewai_tools langchain_community\n"
   ]
  },
  {
   "cell_type": "markdown",
   "id": "53a966bc-aae3-44e3-82a0-89e35117f3e3",
   "metadata": {},
   "source": [
    "# importing crew ai modules that we will need"
   ]
  },
  {
   "cell_type": "code",
   "execution_count": 24,
   "id": "d9599816-921b-46f4-b6c0-a976d4f0d2d2",
   "metadata": {},
   "outputs": [
    {
     "ename": "ModuleNotFoundError",
     "evalue": "No module named 'crewai'",
     "output_type": "error",
     "traceback": [
      "\u001b[1;31m---------------------------------------------------------------------------\u001b[0m",
      "\u001b[1;31mModuleNotFoundError\u001b[0m                       Traceback (most recent call last)",
      "Cell \u001b[1;32mIn[24], line 2\u001b[0m\n\u001b[0;32m      1\u001b[0m \u001b[38;5;66;03m# importing crew ai modules that we will need\u001b[39;00m\n\u001b[1;32m----> 2\u001b[0m \u001b[38;5;28;01mfrom\u001b[39;00m \u001b[38;5;21;01mcrewai\u001b[39;00m \u001b[38;5;28;01mimport\u001b[39;00m Agent, Task, Crew\n",
      "\u001b[1;31mModuleNotFoundError\u001b[0m: No module named 'crewai'"
     ]
    }
   ],
   "source": [
    "# importing crew ai modules that we will need\n",
    "from crewai import Agent, Task, Crew"
   ]
  },
  {
   "cell_type": "code",
   "execution_count": null,
   "id": "8a5a0aff-7989-4931-b93c-5cfaa370bad6",
   "metadata": {},
   "outputs": [],
   "source": [
    "from crewai import Agent, Task, Crew\n",
    "print(\"Successfully imported crewai!\")\n"
   ]
  },
  {
   "cell_type": "code",
   "execution_count": null,
   "id": "cbe2e6e8-8eb3-4a65-b018-7ebe07bad6c3",
   "metadata": {},
   "outputs": [],
   "source": [
    "import os\n",
    "from dotenv import load_dotenv\n",
    "load_dotenv()\n",
    "# loading the api keys needed for this task\n",
    "openai_api_key = os.getenv(\"OPENAI_API_KEY\")\n",
    "# the gpt-4o-mini open ai model is a lightweight and cheap model that i will be using in this notebook\n",
    "os.environ[\"OPENAI_MODEL_NAME\"] = \"gpt-4o-mini\"\n",
    "os.environ[\"SERPER_API_KEY\"] =os.getenv(\"SERPER_API_KEY\")"
   ]
  },
  {
   "cell_type": "code",
   "execution_count": null,
   "id": "3e5bcd64-d1e2-4c50-a597-c3bf7c9179f0",
   "metadata": {},
   "outputs": [],
   "source": [
    "# print(f\"OpenAI API Key: {openai_api_key}\")\n",
    "# print(f\"Serper API Key: {os.getenv('SERPER_API_KEY')}\")\n"
   ]
  },
  {
   "cell_type": "code",
   "execution_count": null,
   "id": "828bf3ff-d34a-467e-aa06-d26618bcf472",
   "metadata": {},
   "outputs": [],
   "source": [
    "from crewai_tools import (\n",
    "  FileReadTool,\n",
    "  ScrapeWebsiteTool,\n",
    "  MDXSearchTool,\n",
    "  SerperDevTool\n",
    ")\n",
    "# this tool uses the Serper api to search google\n",
    "search_tool = SerperDevTool()\n",
    "scrape_tool = ScrapeWebsiteTool()\n",
    "read_resume = FileReadTool(file_path='./resume.md')\n",
    "# this tool enables Retrieval-Augmented Generation (RAG) by extracting relevant \n",
    "# information from the resume and feeding it to the model as needed\n",
    "semantic_search_resume = MDXSearchTool(mdx='./resume.md')"
   ]
  },
  {
   "cell_type": "markdown",
   "id": "5a33e4fa-e2a5-4106-a6b5-dfa71ef8ab61",
   "metadata": {},
   "source": [
    "# Creating the Agents that will transform the resume and make the interview questions"
   ]
  },
  {
   "cell_type": "markdown",
   "id": "173eaca7-9d5f-4ccc-9c9f-f36aef6b12ba",
   "metadata": {},
   "source": [
    "### Agent 1: Researcher"
   ]
  },
  {
   "cell_type": "code",
   "execution_count": null,
   "id": "898c2716-3e77-449f-b505-8103a23604fd",
   "metadata": {},
   "outputs": [],
   "source": [
    "# Agent 1: Researcher - this agent will research the job postings, \n",
    "# analyze the required qualifications, \n",
    "# and extract key skills needed for applicants.\n",
    "researcher = Agent(\n",
    "    role=\"Tech Job Researcher\",\n",
    "    goal=\"Make sure to do amazing analysis on \"\n",
    "         \"job posting to help job applicants\",\n",
    "    tools = [scrape_tool, search_tool],\n",
    "    verbose=False, # Set to \"True\" to enable detailed logs of the agent's operations if you are intrested\n",
    "    backstory=(\n",
    "        \"As a Job Researcher, your prowess in \"\n",
    "        \"navigating and extracting critical \"\n",
    "        \"information from job postings is unmatched.\"\n",
    "        \"Your skills help pinpoint the necessary \"\n",
    "        \"qualifications and skills sought \"\n",
    "        \"by employers, forming the foundation for \"\n",
    "        \"effective application tailoring.\"\n",
    "    )\n",
    ")"
   ]
  },
  {
   "cell_type": "markdown",
   "id": "ca869536-209b-4f0b-b690-be8144900548",
   "metadata": {},
   "source": [
    "### Agent 2: Profiler"
   ]
  },
  {
   "cell_type": "code",
   "execution_count": null,
   "id": "537496b1-17c4-4c9e-9a27-ba5f5ebfd155",
   "metadata": {},
   "outputs": [],
   "source": [
    "# Agent 2: Profiler - This agent helps you, the job applicant, \n",
    "# stand out by analyzing your resume and professional info. \n",
    "# It scrapes job listings and performs semantic searches to gather insights, \n",
    "# helping personalize and enhance your resume for better job market visibility.\n",
    "profiler = Agent(\n",
    "    role=\"Personal Profiler for Engineers\",\n",
    "    goal=\"Do increditble research on job applicants \"\n",
    "         \"to help them stand out in the job market\",\n",
    "    tools = [scrape_tool, search_tool,\n",
    "             read_resume, semantic_search_resume],\n",
    "    verbose=False,  # Set to \"True\" to enable detailed logs of the agent's operations if you are intrested\n",
    "    backstory=(\n",
    "        \"Equipped with analytical prowess, you dissect \"\n",
    "        \"and synthesize information \"\n",
    "        \"from diverse sources to craft comprehensive \"\n",
    "        \"personal and professional profiles, laying the \"\n",
    "        \"groundwork for personalized resume enhancements.\"\n",
    "    )\n",
    ")"
   ]
  },
  {
   "cell_type": "markdown",
   "id": "f1a1fbcd-7d4b-49e2-b282-2c82d983b39f",
   "metadata": {},
   "source": [
    "### Agent 3"
   ]
  },
  {
   "cell_type": "code",
   "execution_count": null,
   "id": "9b6b5127-694a-488f-90f1-fb12d203af7b",
   "metadata": {},
   "outputs": [],
   "source": [
    "# Agent 3: Resume Strategist - This agent helps you optimize your resume to stand out in the job market.\n",
    "# It analyzes job listings and your resume to highlight your most relevant skills and experiences, ensuring \n",
    "# your resume aligns perfectly with job requirements.\n",
    "resume_strategist = Agent(\n",
    "    role=\"Resume Strategist for Engineers\",\n",
    "    goal=\"Find all the best ways to make a \"\n",
    "         \"resume stand out in the job market.\",\n",
    "    tools = [scrape_tool, search_tool,\n",
    "             read_resume, semantic_search_resume],\n",
    "    verbose=False, # Set to \"True\" to enable detailed logs of the agent's operations if you are intrested\n",
    "    backstory=(\n",
    "        \"With a strategic mind and an eye for detail, you \"\n",
    "        \"excel at refining resumes to highlight the most \"\n",
    "        \"relevant skills and experiences, ensuring they \"\n",
    "        \"resonate perfectly with the job's requirements.\"\n",
    "    )\n",
    ")"
   ]
  },
  {
   "cell_type": "markdown",
   "id": "54828a5f-3309-42f1-b0aa-e6b9b41b3785",
   "metadata": {},
   "source": [
    "### Agent 4"
   ]
  },
  {
   "cell_type": "code",
   "execution_count": null,
   "id": "ef504941-420d-4c41-abb7-e467064986c6",
   "metadata": {},
   "outputs": [],
   "source": [
    "# Agent 4: Interview Preparer - \n",
    "# This agent helps you prepare for interviews \n",
    "# by creating relevant questions and talking points \n",
    "# based on your resume and the job requirements.\n",
    "\n",
    "interview_preparer = Agent(\n",
    "    role=\"Engineering Interview Preparer\",\n",
    "    goal=\"Create interview questions and talking points \"\n",
    "         \"based on the resume and job requirements\",\n",
    "    tools = [scrape_tool, search_tool,\n",
    "             read_resume, semantic_search_resume],\n",
    "    verbose=False, # Set to \"True\" to enable detailed logs of the agent's operations if you are intrested\n",
    "    backstory=(\n",
    "        \"Your role is crucial in anticipating the dynamics of \"\n",
    "        \"interviews. With your ability to formulate key questions \"\n",
    "        \"and talking points, you prepare candidates for success, \"\n",
    "        \"ensuring they can confidently address all aspects of the \"\n",
    "        \"job they are applying for.\"\n",
    "    )\n",
    ")"
   ]
  },
  {
   "cell_type": "markdown",
   "id": "02db7d68-cf73-4740-a95e-2e083ab366ab",
   "metadata": {},
   "source": [
    "# now we will create the tasks for the agents"
   ]
  },
  {
   "cell_type": "markdown",
   "id": "c20c061f-2813-4bf4-94bf-d0eaa0d0c030",
   "metadata": {},
   "source": [
    "### Task for Researcher Agent"
   ]
  },
  {
   "cell_type": "code",
   "execution_count": null,
   "id": "69b36a71-e022-43ce-9d08-5814c06e0518",
   "metadata": {},
   "outputs": [],
   "source": [
    "# Task for Researcher Agent: Extract Job Requirements - \n",
    "# This task involves analyzing the provided job posting URL to \n",
    "# extract and categorize key job requirements such as skills, \n",
    "# qualifications, and experiences.\n",
    "\n",
    "research_task = Task(\n",
    "    description=(\n",
    "        \"Analyze the job posting URL provided ({job_posting_url}) \"\n",
    "        \"to extract key skills, experiences, and qualifications \"\n",
    "        \"required. Use the tools to gather content and identify \"\n",
    "        \"and categorize the requirements.\"\n",
    "    ),\n",
    "    expected_output=(\n",
    "        \"A structured list of job requirements, including necessary \"\n",
    "        \"skills, qualifications, and experiences.\"\n",
    "    ),\n",
    "    agent=researcher,\n",
    "    async_execution=True\n",
    ")"
   ]
  },
  {
   "cell_type": "markdown",
   "id": "44733c6c-5e5a-4e2e-b1f9-23c6c721352a",
   "metadata": {},
   "source": [
    "### Task for Profiler Agent"
   ]
  },
  {
   "cell_type": "code",
   "execution_count": null,
   "id": "140db5ce-9d01-44ac-b9af-b2dd2805e950",
   "metadata": {},
   "outputs": [],
   "source": [
    "# Task for Profiler Agent: Compile Comprehensive Profile - \n",
    "# This task involves creating a detailed personal and \n",
    "# professional profile using the provided GitHub URL \n",
    "# and personal write-up, extracting key information from these sources.\n",
    "profile_task = Task(\n",
    "    description=(\n",
    "        \"Compile a detailed personal and professional profile \"\n",
    "        \"using the GitHub ({github_url}) URLs, and personal write-up \"\n",
    "        \"({personal_writeup}). Utilize tools to extract and \"\n",
    "        \"synthesize information from these sources.\"\n",
    "    ),\n",
    "    expected_output=(\n",
    "        \"A comprehensive profile document that includes skills, \"\n",
    "        \"project experiences, contributions, interests, and \"\n",
    "        \"communication style.\"\n",
    "    ),\n",
    "    agent=profiler,\n",
    "    async_execution=True\n",
    ")"
   ]
  },
  {
   "cell_type": "markdown",
   "id": "a11dde5d-edfd-4720-ac35-e71469ca7531",
   "metadata": {},
   "source": [
    "### Task for Resume Strategist Agent"
   ]
  },
  {
   "cell_type": "code",
   "execution_count": null,
   "id": "cda511a8-d084-4283-b453-98c6ce9fe6f2",
   "metadata": {},
   "outputs": [],
   "source": [
    "# Task for Resume Strategist Agent: Align Resume with Job Requirements - \n",
    "# This task involves tailoring the resume based on the profile and job requirements, \n",
    "# updating all sections to highlight the most relevant qualifications and experiences, \n",
    "# without making up information.\n",
    "resume_strategy_task = Task(\n",
    "    description=(\n",
    "        \"Using the profile and job requirements obtained from \"\n",
    "        \"previous tasks, tailor the resume to highlight the most \"\n",
    "        \"relevant areas. Employ tools to adjust and enhance the \"\n",
    "        \"resume content. Make sure this is the best resume even but \"\n",
    "        \"don't make up any information. Update every section, \"\n",
    "        \"inlcuding the initial summary, work experience, skills, \"\n",
    "        \"and education. All to better reflrect the candidates \"\n",
    "        \"abilities and how it matches the job posting.\"\n",
    "    ),\n",
    "    expected_output=(\n",
    "        \"An updated resume that effectively highlights the candidate's \"\n",
    "        \"qualifications and experiences relevant to the job.\"\n",
    "        \" Return just the resume, without ``` in the beggining and ``` This resume effectively highlights... text at the end of the resume please.\"\n",
    "        \"use only '# ', '## ', '### ', '- ', surrounding words in ** like: **<text>** and like *<text>* styles in the resume for the markdown styling please.\"\n",
    "    ),\n",
    "    output_file=\"tailored_resume.md\",\n",
    "    context=[research_task, profile_task],\n",
    "    agent=resume_strategist\n",
    ")"
   ]
  },
  {
   "cell_type": "markdown",
   "id": "a1718ff5-0070-4b85-a55d-68bf377e7624",
   "metadata": {},
   "source": [
    "### Task for Interview Preparer Agent"
   ]
  },
  {
   "cell_type": "code",
   "execution_count": null,
   "id": "eb4f0f3d-2ea5-44f7-9b3b-f0257a3af8ab",
   "metadata": {},
   "outputs": [],
   "source": [
    "# Task for Interview Preparer Agent: Develop Interview Materials - \n",
    "# This task creates interview questions and talking points based on \n",
    "# the tailored resume and job requirements, \n",
    "# helping the candidate prepare to highlight key points during the interview.\n",
    "interview_preparation_task = Task(\n",
    "    description=(\n",
    "        \"Create a set of potential interview questions and talking \"\n",
    "        \"points based on the tailored resume and job requirements. \"\n",
    "        \"Utilize tools to generate relevant questions and discussion \"\n",
    "        \"points. Make sure to use these question and talking points to \"\n",
    "        \"help the candiadte highlight the main points of the resume \"\n",
    "        \"and how it matches the job posting.\"\n",
    "    ),\n",
    "    expected_output=(\n",
    "        \"A document containing key questions and talking points \"\n",
    "        \"that the candidate should prepare for the initial interview.\"\n",
    "    ),\n",
    "    output_file=\"interview_materials.md\",\n",
    "    context=[research_task, profile_task, resume_strategy_task],\n",
    "    agent=interview_preparer\n",
    ")\n"
   ]
  },
  {
   "cell_type": "markdown",
   "id": "48b7c0ce-ced6-4e41-903b-4e65efb5d36d",
   "metadata": {},
   "source": [
    "### Job Application Crew"
   ]
  },
  {
   "cell_type": "code",
   "execution_count": null,
   "id": "c42f3893-c697-4e75-847f-16e5171f3ef0",
   "metadata": {},
   "outputs": [],
   "source": [
    "# Job Application Crew: This crew coordinates \n",
    "# the efforts of multiple agents to assist the job applicant in all stages, \n",
    "# from researching job requirements to preparing for the interview. \n",
    "# Each agent handles a specific task to optimize the application process.\n",
    "job_application_crew = Crew(\n",
    "    agents=[researcher,\n",
    "            profiler,\n",
    "            resume_strategist,\n",
    "            interview_preparer],\n",
    "\n",
    "    tasks=[research_task,\n",
    "           profile_task,\n",
    "           resume_strategy_task,\n",
    "           interview_preparation_task],\n",
    "\n",
    "    verbose=False # Set to \"True\" to enable detailed logs of the crew's operations if you are intrested\n",
    ")"
   ]
  },
  {
   "cell_type": "code",
   "execution_count": null,
   "id": "07fd2b66-8b18-484a-a252-26723a7aae30",
   "metadata": {},
   "outputs": [],
   "source": [
    "\n",
    "job_application_inputs = {\n",
    "    'job_posting_url': job_posting_url,\n",
    "    'github_url': github_url,\n",
    "    'personal_writeup': personal_writeup\n",
    "}"
   ]
  },
  {
   "cell_type": "markdown",
   "id": "a2c201d3-452d-4b94-90b8-479a9c8bd107",
   "metadata": {},
   "source": [
    "# this is where the magic starts"
   ]
  },
  {
   "cell_type": "markdown",
   "id": "1a1cb9b0-c671-4d3e-a20c-431eecfe5798",
   "metadata": {},
   "source": [
    "## this exexcutes the project"
   ]
  },
  {
   "cell_type": "markdown",
   "id": "b39a648a-31be-4b97-907f-bc463ba9ef64",
   "metadata": {},
   "source": [
    "### this execution will take a few minutes to run"
   ]
  },
  {
   "cell_type": "code",
   "execution_count": null,
   "id": "5549d5ec-4452-4e80-8517-2020225555a7",
   "metadata": {
    "scrolled": true
   },
   "outputs": [],
   "source": [
    "\n",
    "result = job_application_crew.kickoff(inputs=job_application_inputs)"
   ]
  },
  {
   "cell_type": "code",
   "execution_count": null,
   "id": "f0b4e79b-bbb0-4ee1-ad46-f62e5f3afa6e",
   "metadata": {},
   "outputs": [],
   "source": []
  },
  {
   "cell_type": "code",
   "execution_count": null,
   "id": "8f7444cc-c17e-41ee-920a-6a7152e92591",
   "metadata": {},
   "outputs": [],
   "source": []
  },
  {
   "cell_type": "code",
   "execution_count": null,
   "id": "f10bbd96-194d-4b3f-b3ba-c56953273269",
   "metadata": {},
   "outputs": [],
   "source": [
    "# pip install python-docx\n"
   ]
  },
  {
   "cell_type": "markdown",
   "id": "57da89cf-5e49-424e-b33b-bd8a7ca51809",
   "metadata": {},
   "source": [
    "# this will transform the previosly created *tailored_resume.md* to word format *tailored_resume.docx*"
   ]
  },
  {
   "cell_type": "code",
   "execution_count": null,
   "id": "8ff85147-68c3-4e5c-8a81-7122a04e8ce1",
   "metadata": {},
   "outputs": [],
   "source": [
    "md_file = 'tailored_resume.md'\n",
    "output_file = 'tailored_resume.docx'"
   ]
  },
  {
   "cell_type": "code",
   "execution_count": null,
   "id": "5b4c195e-e969-432e-b9cf-731e659f89ab",
   "metadata": {},
   "outputs": [],
   "source": [
    "from docx import Document\n",
    "\n",
    "def markdown_to_word(md_file, output_file):\n",
    "    # Create a new Document object\n",
    "    doc = Document()\n",
    "\n",
    "    with open(md_file, 'r', encoding='utf-8') as file:\n",
    "        lines = file.readlines()\n",
    "\n",
    "    for line in lines:\n",
    "        line = line.strip()\n",
    "\n",
    "        # Heading 1 (H1: # or # **Bold Text**)\n",
    "        if line.startswith('# '):\n",
    "            heading = line[2:].strip()\n",
    "            add_formatted_text(doc, heading, heading_level=1)\n",
    "\n",
    "        # Heading 2 (H2: ## or ## **Bold Text**)\n",
    "        elif line.startswith('## '):\n",
    "            heading = line[3:].strip()\n",
    "            add_formatted_text(doc, heading, heading_level=2)\n",
    "\n",
    "        # Heading 3 (H3: ### or ### **Bold Text**)\n",
    "        elif line.startswith('### '):\n",
    "            heading = line[4:].strip()\n",
    "            add_formatted_text(doc, heading, heading_level=3)\n",
    "\n",
    "        # Bullet points (-), including \"- **Bold Text:**\"\n",
    "        elif line.startswith('- '):\n",
    "            paragraph = doc.add_paragraph(style='List Bullet')\n",
    "            process_bold_and_italic(line[2:], paragraph)\n",
    "\n",
    "        # Regular paragraph, handling **bold** and *italic*\n",
    "        elif line:\n",
    "            paragraph = doc.add_paragraph()\n",
    "            process_bold_and_italic(line, paragraph)\n",
    "\n",
    "    # Save the document\n",
    "    doc.save(output_file)\n",
    "\n",
    "def add_formatted_text(doc, text, heading_level):\n",
    "    \"\"\"Handles adding bold text for headings like # **Bold Text**.\"\"\"\n",
    "    paragraph = doc.add_heading(level=heading_level)\n",
    "    process_bold_and_italic(text, paragraph)\n",
    "\n",
    "def process_bold_and_italic(text, paragraph):\n",
    "    \"\"\"\n",
    "    Processes bold (**text**) and italic (*text*) Markdown syntax\n",
    "    and applies the appropriate Word formatting.\n",
    "    \"\"\"\n",
    "    i = 0\n",
    "    while i < len(text):\n",
    "        if text[i:i+2] == '**':  # Bold start\n",
    "            i += 2\n",
    "            bold_start = i\n",
    "            while i < len(text) - 1 and text[i:i+2] != '**':\n",
    "                i += 1\n",
    "            paragraph.add_run(text[bold_start:i]).bold = True\n",
    "            i += 2  # Skip the closing **\n",
    "        elif text[i] == '*':  # Italic start\n",
    "            i += 1\n",
    "            italic_start = i\n",
    "            while i < len(text) and text[i] != '*':\n",
    "                i += 1\n",
    "            paragraph.add_run(text[italic_start:i]).italic = True\n",
    "            i += 1  # Skip the closing *\n",
    "        else:\n",
    "            start = i\n",
    "            while i < len(text) and text[i:i+2] not in ('**', '*'):\n",
    "                i += 1\n",
    "            paragraph.add_run(text[start:i])  # Regular text\n",
    "\n",
    "# Example usage\n",
    "\n",
    "markdown_to_word(md_file, output_file)\n"
   ]
  },
  {
   "cell_type": "code",
   "execution_count": null,
   "id": "96586505-7977-4f91-a85a-30385707f567",
   "metadata": {},
   "outputs": [],
   "source": []
  }
 ],
 "metadata": {
  "kernelspec": {
   "display_name": "Python 3 (ipykernel)",
   "language": "python",
   "name": "python3"
  },
  "language_info": {
   "codemirror_mode": {
    "name": "ipython",
    "version": 3
   },
   "file_extension": ".py",
   "mimetype": "text/x-python",
   "name": "python",
   "nbconvert_exporter": "python",
   "pygments_lexer": "ipython3",
   "version": "3.12.7"
  }
 },
 "nbformat": 4,
 "nbformat_minor": 5
}
